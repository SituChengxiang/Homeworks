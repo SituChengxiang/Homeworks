{
 "cells": [
  {
   "cell_type": "markdown",
   "id": "a5079872",
   "metadata": {},
   "source": [
    "# 熊恒娜的Python\n",
    "\n",
    "理A108\n",
    "\n",
    "## 第一课\n",
    "\n",
    "成绩组成：\n",
    "\n",
    "- 作业\n",
    "- 平时成绩（签到+课本习题回答，答案+解释）【前两者30%】\n",
    "- 期中【20%】\n",
    "- 期末【50%】\n",
    "\n",
    "Python的特点\n",
    "\n",
    "- 开源\n",
    "- 免费\n",
    "- 简单易学\n",
    "- 模块化，扩展库丰富\n",
    "- 面向对象，也支持函数式编程\n",
    "- 解释型语言（一边编译一边跑）\n",
    "- 可移植性（跨平台）\n",
    "- 代码规范（Really？）"
   ]
  },
  {
   "cell_type": "code",
   "execution_count": 1,
   "id": "ccfdd510",
   "metadata": {},
   "outputs": [
    {
     "name": "stdout",
     "output_type": "stream",
     "text": [
      "Hello, World!\n"
     ]
    }
   ],
   "source": [
    "print(\"Hello, World!\")"
   ]
  },
  {
   "cell_type": "markdown",
   "id": "492be420",
   "metadata": {},
   "source": [
    "## 习惯良好\n",
    "\n",
    "- tab制表符不确定的时候手动敲空格（4个），在此之前行尾要有冒号\n",
    "- 建议一行不要超过76个字符\n",
    "- 注释是三个引号,'''或者\"\"\"\"都行"
   ]
  },
  {
   "cell_type": "code",
   "execution_count": 2,
   "id": "6d0ec7d6",
   "metadata": {},
   "outputs": [
    {
     "name": "stdout",
     "output_type": "stream",
     "text": [
      "The Zen of Python, by Tim Peters\n",
      "\n",
      "Beautiful is better than ugly.\n",
      "Explicit is better than implicit.\n",
      "Simple is better than complex.\n",
      "Complex is better than complicated.\n",
      "Flat is better than nested.\n",
      "Sparse is better than dense.\n",
      "Readability counts.\n",
      "Special cases aren't special enough to break the rules.\n",
      "Although practicality beats purity.\n",
      "Errors should never pass silently.\n",
      "Unless explicitly silenced.\n",
      "In the face of ambiguity, refuse the temptation to guess.\n",
      "There should be one-- and preferably only one --obvious way to do it.\n",
      "Although that way may not be obvious at first unless you're Dutch.\n",
      "Now is better than never.\n",
      "Although never is often better than *right* now.\n",
      "If the implementation is hard to explain, it's a bad idea.\n",
      "If the implementation is easy to explain, it may be a good idea.\n",
      "Namespaces are one honking great idea -- let's do more of those!\n"
     ]
    }
   ],
   "source": [
    "import this"
   ]
  },
  {
   "cell_type": "markdown",
   "id": "f9880cc8",
   "metadata": {},
   "source": [
    "## Python的库\n",
    "\n",
    "- 官方的import\n",
    "- 第三方的用pip/conda/uv等包管理器\n",
    "\n",
    "常用pip命令的使用方法\n",
    "\n",
    "\n",
    "|pip命令示例|说明|\n",
    "|----------|---|\n",
    "|pip download SomePackage[ == version]|下载扩展库的指定版本,不安装|\n",
    "|pip freeze|以 requirements 的格式列出已安装模块|\n",
    "|pip list|列出当前已安装的所有模块|\n",
    "|pip install SomePackage[ == version]|在线安装SomePackage 模块的指定版本|\n",
    "|pip install SomePackage. whl|通过whl文件离线安装扩展库|\n",
    "|pip install packagel package2 ··.|依次(在线)安装package1、package2 等扩展模块|\n",
    "|pip install -r requirements. txt|安装 requirements.txt文件中指定的扩展库\n",
    "|pip install -- upgrade SomePackage|升级 SomePackage 模块\n",
    "|pip uninstall SomePackage[ == version]|卸载 SomePackage 模块的指定版本|\n",
    "\n",
    "存在多个 Python 环境的情况下，需要分别安装\n",
    "\n",
    "常用的标准库：  \n",
    "数学：`math`,`random`,`statistics`,日期：`datetime`,`time`,系统：`os`\n",
    "\n",
    "要用记得先导入；有些库名称很长，比如`matplotlib`，或者写成`from matplotlib import *`；可以取个别名`import matplotlib as mpt`，还可以叠加指定对象的名称`from *** import xxx as yy`"
   ]
  },
  {
   "cell_type": "code",
   "execution_count": 3,
   "id": "792c5147",
   "metadata": {},
   "outputs": [
    {
     "name": "stdout",
     "output_type": "stream",
     "text": [
      "Help on built-in module math:\n",
      "\n",
      "NAME\n",
      "    math\n",
      "\n",
      "DESCRIPTION\n",
      "    This module provides access to the mathematical functions\n",
      "    defined by the C standard.\n",
      "\n",
      "FUNCTIONS\n",
      "    acos(x, /)\n",
      "        Return the arc cosine (measured in radians) of x.\n",
      "\n",
      "        The result is between 0 and pi.\n",
      "\n",
      "    acosh(x, /)\n",
      "        Return the inverse hyperbolic cosine of x.\n",
      "\n",
      "    asin(x, /)\n",
      "        Return the arc sine (measured in radians) of x.\n",
      "\n",
      "        The result is between -pi/2 and pi/2.\n",
      "\n",
      "    asinh(x, /)\n",
      "        Return the inverse hyperbolic sine of x.\n",
      "\n",
      "    atan(x, /)\n",
      "        Return the arc tangent (measured in radians) of x.\n",
      "\n",
      "        The result is between -pi/2 and pi/2.\n",
      "\n",
      "    atan2(y, x, /)\n",
      "        Return the arc tangent (measured in radians) of y/x.\n",
      "\n",
      "        Unlike atan(y/x), the signs of both x and y are considered.\n",
      "\n",
      "    atanh(x, /)\n",
      "        Return the inverse hyperbolic tangent of x.\n",
      "\n",
      "    cbrt(x, /)\n",
      "        Return the cube root of x.\n",
      "\n",
      "    ceil(x, /)\n",
      "        Return the ceiling of x as an Integral.\n",
      "\n",
      "        This is the smallest integer >= x.\n",
      "\n",
      "    comb(n, k, /)\n",
      "        Number of ways to choose k items from n items without repetition and without order.\n",
      "\n",
      "        Evaluates to n! / (k! * (n - k)!) when k <= n and evaluates\n",
      "        to zero when k > n.\n",
      "\n",
      "        Also called the binomial coefficient because it is equivalent\n",
      "        to the coefficient of k-th term in polynomial expansion of the\n",
      "        expression (1 + x)**n.\n",
      "\n",
      "        Raises TypeError if either of the arguments are not integers.\n",
      "        Raises ValueError if either of the arguments are negative.\n",
      "\n",
      "    copysign(x, y, /)\n",
      "        Return a float with the magnitude (absolute value) of x but the sign of y.\n",
      "\n",
      "        On platforms that support signed zeros, copysign(1.0, -0.0)\n",
      "        returns -1.0.\n",
      "\n",
      "    cos(x, /)\n",
      "        Return the cosine of x (measured in radians).\n",
      "\n",
      "    cosh(x, /)\n",
      "        Return the hyperbolic cosine of x.\n",
      "\n",
      "    degrees(x, /)\n",
      "        Convert angle x from radians to degrees.\n",
      "\n",
      "    dist(p, q, /)\n",
      "        Return the Euclidean distance between two points p and q.\n",
      "\n",
      "        The points should be specified as sequences (or iterables) of\n",
      "        coordinates.  Both inputs must have the same dimension.\n",
      "\n",
      "        Roughly equivalent to:\n",
      "            sqrt(sum((px - qx) ** 2.0 for px, qx in zip(p, q)))\n",
      "\n",
      "    erf(x, /)\n",
      "        Error function at x.\n",
      "\n",
      "    erfc(x, /)\n",
      "        Complementary error function at x.\n",
      "\n",
      "    exp(x, /)\n",
      "        Return e raised to the power of x.\n",
      "\n",
      "    exp2(x, /)\n",
      "        Return 2 raised to the power of x.\n",
      "\n",
      "    expm1(x, /)\n",
      "        Return exp(x)-1.\n",
      "\n",
      "        This function avoids the loss of precision involved in the direct evaluation of exp(x)-1 for small x.\n",
      "\n",
      "    fabs(x, /)\n",
      "        Return the absolute value of the float x.\n",
      "\n",
      "    factorial(n, /)\n",
      "        Find n!.\n",
      "\n",
      "    floor(x, /)\n",
      "        Return the floor of x as an Integral.\n",
      "\n",
      "        This is the largest integer <= x.\n",
      "\n",
      "    fma(x, y, z, /)\n",
      "        Fused multiply-add operation.\n",
      "\n",
      "        Compute (x * y) + z with a single round.\n",
      "\n",
      "    fmod(x, y, /)\n",
      "        Return fmod(x, y), according to platform C.\n",
      "\n",
      "        x % y may differ.\n",
      "\n",
      "    frexp(x, /)\n",
      "        Return the mantissa and exponent of x, as pair (m, e).\n",
      "\n",
      "        m is a float and e is an int, such that x = m * 2.**e.\n",
      "        If x is 0, m and e are both 0.  Else 0.5 <= abs(m) < 1.0.\n",
      "\n",
      "    fsum(seq, /)\n",
      "        Return an accurate floating-point sum of values in the iterable seq.\n",
      "\n",
      "        Assumes IEEE-754 floating-point arithmetic.\n",
      "\n",
      "    gamma(x, /)\n",
      "        Gamma function at x.\n",
      "\n",
      "    gcd(*integers)\n",
      "        Greatest Common Divisor.\n",
      "\n",
      "    hypot(...)\n",
      "        hypot(*coordinates) -> value\n",
      "\n",
      "        Multidimensional Euclidean distance from the origin to a point.\n",
      "\n",
      "        Roughly equivalent to:\n",
      "            sqrt(sum(x**2 for x in coordinates))\n",
      "\n",
      "        For a two dimensional point (x, y), gives the hypotenuse\n",
      "        using the Pythagorean theorem:  sqrt(x*x + y*y).\n",
      "\n",
      "        For example, the hypotenuse of a 3/4/5 right triangle is:\n",
      "\n",
      "            >>> hypot(3.0, 4.0)\n",
      "            5.0\n",
      "\n",
      "    isclose(a, b, *, rel_tol=1e-09, abs_tol=0.0)\n",
      "        Determine whether two floating-point numbers are close in value.\n",
      "\n",
      "          rel_tol\n",
      "            maximum difference for being considered \"close\", relative to the\n",
      "            magnitude of the input values\n",
      "          abs_tol\n",
      "            maximum difference for being considered \"close\", regardless of the\n",
      "            magnitude of the input values\n",
      "\n",
      "        Return True if a is close in value to b, and False otherwise.\n",
      "\n",
      "        For the values to be considered close, the difference between them\n",
      "        must be smaller than at least one of the tolerances.\n",
      "\n",
      "        -inf, inf and NaN behave similarly to the IEEE 754 Standard.  That\n",
      "        is, NaN is not close to anything, even itself.  inf and -inf are\n",
      "        only close to themselves.\n",
      "\n",
      "    isfinite(x, /)\n",
      "        Return True if x is neither an infinity nor a NaN, and False otherwise.\n",
      "\n",
      "    isinf(x, /)\n",
      "        Return True if x is a positive or negative infinity, and False otherwise.\n",
      "\n",
      "    isnan(x, /)\n",
      "        Return True if x is a NaN (not a number), and False otherwise.\n",
      "\n",
      "    isqrt(n, /)\n",
      "        Return the integer part of the square root of the input.\n",
      "\n",
      "    lcm(*integers)\n",
      "        Least Common Multiple.\n",
      "\n",
      "    ldexp(x, i, /)\n",
      "        Return x * (2**i).\n",
      "\n",
      "        This is essentially the inverse of frexp().\n",
      "\n",
      "    lgamma(x, /)\n",
      "        Natural logarithm of absolute value of Gamma function at x.\n",
      "\n",
      "    log(...)\n",
      "        log(x, [base=math.e])\n",
      "        Return the logarithm of x to the given base.\n",
      "\n",
      "        If the base is not specified, returns the natural logarithm (base e) of x.\n",
      "\n",
      "    log10(x, /)\n",
      "        Return the base 10 logarithm of x.\n",
      "\n",
      "    log1p(x, /)\n",
      "        Return the natural logarithm of 1+x (base e).\n",
      "\n",
      "        The result is computed in a way which is accurate for x near zero.\n",
      "\n",
      "    log2(x, /)\n",
      "        Return the base 2 logarithm of x.\n",
      "\n",
      "    modf(x, /)\n",
      "        Return the fractional and integer parts of x.\n",
      "\n",
      "        Both results carry the sign of x and are floats.\n",
      "\n",
      "    nextafter(x, y, /, *, steps=None)\n",
      "        Return the floating-point value the given number of steps after x towards y.\n",
      "\n",
      "        If steps is not specified or is None, it defaults to 1.\n",
      "\n",
      "        Raises a TypeError, if x or y is not a double, or if steps is not an integer.\n",
      "        Raises ValueError if steps is negative.\n",
      "\n",
      "    perm(n, k=None, /)\n",
      "        Number of ways to choose k items from n items without repetition and with order.\n",
      "\n",
      "        Evaluates to n! / (n - k)! when k <= n and evaluates\n",
      "        to zero when k > n.\n",
      "\n",
      "        If k is not specified or is None, then k defaults to n\n",
      "        and the function returns n!.\n",
      "\n",
      "        Raises TypeError if either of the arguments are not integers.\n",
      "        Raises ValueError if either of the arguments are negative.\n",
      "\n",
      "    pow(x, y, /)\n",
      "        Return x**y (x to the power of y).\n",
      "\n",
      "    prod(iterable, /, *, start=1)\n",
      "        Calculate the product of all the elements in the input iterable.\n",
      "\n",
      "        The default start value for the product is 1.\n",
      "\n",
      "        When the iterable is empty, return the start value.  This function is\n",
      "        intended specifically for use with numeric values and may reject\n",
      "        non-numeric types.\n",
      "\n",
      "    radians(x, /)\n",
      "        Convert angle x from degrees to radians.\n",
      "\n",
      "    remainder(x, y, /)\n",
      "        Difference between x and the closest integer multiple of y.\n",
      "\n",
      "        Return x - n*y where n*y is the closest integer multiple of y.\n",
      "        In the case where x is exactly halfway between two multiples of\n",
      "        y, the nearest even value of n is used. The result is always exact.\n",
      "\n",
      "    sin(x, /)\n",
      "        Return the sine of x (measured in radians).\n",
      "\n",
      "    sinh(x, /)\n",
      "        Return the hyperbolic sine of x.\n",
      "\n",
      "    sqrt(x, /)\n",
      "        Return the square root of x.\n",
      "\n",
      "    sumprod(p, q, /)\n",
      "        Return the sum of products of values from two iterables p and q.\n",
      "\n",
      "        Roughly equivalent to:\n",
      "\n",
      "            sum(itertools.starmap(operator.mul, zip(p, q, strict=True)))\n",
      "\n",
      "        For float and mixed int/float inputs, the intermediate products\n",
      "        and sums are computed with extended precision.\n",
      "\n",
      "    tan(x, /)\n",
      "        Return the tangent of x (measured in radians).\n",
      "\n",
      "    tanh(x, /)\n",
      "        Return the hyperbolic tangent of x.\n",
      "\n",
      "    trunc(x, /)\n",
      "        Truncates the Real x to the nearest Integral toward 0.\n",
      "\n",
      "        Uses the __trunc__ magic method.\n",
      "\n",
      "    ulp(x, /)\n",
      "        Return the value of the least significant bit of the float x.\n",
      "\n",
      "DATA\n",
      "    e = 2.718281828459045\n",
      "    inf = inf\n",
      "    nan = nan\n",
      "    pi = 3.141592653589793\n",
      "    tau = 6.283185307179586\n",
      "\n",
      "FILE\n",
      "    (built-in)\n",
      "\n",
      "\n",
      "Help on built-in function sqrt in module math:\n",
      "\n",
      "sqrt(x, /)\n",
      "    Return the square root of x.\n",
      "\n"
     ]
    }
   ],
   "source": [
    "import math \n",
    "help(math)\n",
    "dir(math) #directory of math module\n",
    "help(math.sqrt) #help on sqrt function"
   ]
  },
  {
   "cell_type": "code",
   "execution_count": 4,
   "id": "88896cc9",
   "metadata": {},
   "outputs": [
    {
     "data": {
      "text/plain": [
       "1.0"
      ]
     },
     "execution_count": 4,
     "metadata": {},
     "output_type": "execute_result"
    }
   ],
   "source": [
    "from math import sin\n",
    "math.sin(0.5)\n",
    "math.sin(0.5*math.pi)#两个代码分开运行一下，sin函数输入的是弧度"
   ]
  },
  {
   "cell_type": "code",
   "execution_count": 5,
   "id": "80d6cbe5",
   "metadata": {},
   "outputs": [
    {
     "data": {
      "text/plain": [
       "0.4750424534584662"
      ]
     },
     "execution_count": 5,
     "metadata": {},
     "output_type": "execute_result"
    }
   ],
   "source": [
    "import random\n",
    "random.random()#多跑跑，结果不一样的"
   ]
  },
  {
   "cell_type": "code",
   "execution_count": 6,
   "id": "68071b63",
   "metadata": {},
   "outputs": [],
   "source": [
    "import numpy as np\n",
    "a = np.array([1, 2, 3])"
   ]
  },
  {
   "cell_type": "markdown",
   "id": "c07e38f9",
   "metadata": {},
   "source": [
    "有时候加个下划线，记得他是另一个库里的；\n",
    "下面来看一下导入所有对象："
   ]
  },
  {
   "cell_type": "code",
   "execution_count": 7,
   "id": "71ad3ffc",
   "metadata": {},
   "outputs": [
    {
     "name": "stdout",
     "output_type": "stream",
     "text": [
      "0.1411200080598672\n",
      "1.0\n",
      "1.0\n",
      "4.0\n",
      "3.141592653589793\n",
      "90.0\n",
      "2\n",
      "1\n",
      "120\n"
     ]
    }
   ],
   "source": [
    "from math import *\n",
    "print(sin(3)) #求正弦值\n",
    "print(log(e)) #求自然对数\n",
    "print(log10(10)) #求以10为底的对数\n",
    "print(sqrt(16)) #求平方根\n",
    "print(radians(180)) #角度转弧度\n",
    "print(degrees(math.pi/2)) #弧度转角度\n",
    "print(ceil(1.2)) #向上取整\n",
    "print(floor(1.8)) #向下取整\n",
    "print(factorial(5)) #阶乘"
   ]
  },
  {
   "cell_type": "code",
   "execution_count": null,
   "id": "ece42164",
   "metadata": {},
   "outputs": [
    {
     "name": "stdout",
     "output_type": "stream",
     "text": [
      "0.1411200080598672\n",
      "1.0\n",
      "1.0\n",
      "4.0\n",
      "3.141592653589793\n",
      "90.0\n",
      "2\n",
      "1\n",
      "120\n"
     ]
    }
   ],
   "source": [
    "import math # 另一种写法，math作为元包组；如果在控制台里敲是可以不用print的\n",
    "print(math.sin(3)) #求正弦值\n",
    "print(math.log(math.e)) #求自然对数\n",
    "print(math.log10(10)) #求以10为底的对数\n",
    "print(math.sqrt(16)) #求平方根\n",
    "print(math.radians(180)) #角度转弧度\n",
    "print(math.degrees(math.pi/2)) #弧度转角度\n",
    "print(math.ceil(1.2)) #向上取整\n",
    "print(math.floor(1.8)) #向下取整\n",
    "print(math.factorial(5)) #阶乘"
   ]
  },
  {
   "cell_type": "markdown",
   "id": "ab3b7e72",
   "metadata": {},
   "source": [
    "如果要调用自己写的（比如op.py），最简单的方法是放在同一个目录下，\n",
    "```python\n",
    "import op.py\n",
    "```"
   ]
  },
  {
   "cell_type": "markdown",
   "id": "cb41dc9b",
   "metadata": {},
   "source": [
    "## Python 面向对象（OOP）\n",
    "\n",
    "对象object是python语言中最基本的概念，万物皆对象\n",
    "\n",
    "对于一个具体的对象（比如2*2的矩阵），我们可以将其抽象为类(class)：矩阵(matrix)\n",
    "\n",
    "对于属于矩阵的任何一个对象，其有具体的组成（比如不同的数值），但具有一些共通的内容：\n",
    "- 数据\n",
    "- 行为，对矩阵可以进行哪些操作，比如转置、求特征值\n",
    "\n",
    "\n",
    "下面是一些Python的内置对象\n",
    "\n",
    "|对象类型|类型|示例|简要说明|\n",
    "|-------|---|-------|----|\n",
    "|数字|int, float,complex|1234,3.14, 1.3e5, 3+4j|数字大小没有限制,内置支持复数及其运算|\n",
    "|字符串|字符串|'swfu', \" I'm a student\",\"Python \", r'abc', R'bcd'|使用单引号、双引号、三引号作为定界符,以字母r或R引导的表示原始字符串|\n",
    "|字节串|bytes|b'hello world'|以字母b引导,可以使用单引号、双引号、三引号作为定界符|\n",
    "|列表|list|[1, 2, 3],['a', 'b', ['c', 2]]|所有元素放在一对方括号中,元素之间使用逗号分隔,其中的元素可以是任意类型|\n",
    "|字典|dict|{1: 'food' , 2: 'taste', 3:'import'}|所有元素放在一对大括号中,元素之间使用逗号分隔,元素形式为“键:值”|\n",
    "|元组|tuple|(2,-5,6),(3,)|不可变，所有元素放在一对圆括号中,元素之间使用逗号分隔,如果元组中只有一个元素的话,后面的逗号不能省略|\n",
    "|集合|set,frozenset|{'a', 'b', 'c'}|所有元素放在一对大括号中,元素之间使用逗号分隔,元素不~~允许重复~~;另外,set是可变的,而frozenset是不可变的|\n",
    "|布尔型|bool|True, False|逻辑值,关系运算符、成员测试运算符、同一性测试运算符组成的表达式的值一般为True或 False|\n",
    "|空类型|NoneType|None|空值|\n",
    "|异常|Exception/ValueError/TypeError:|没有|Python内置大量异常类,分别对应不同类型的异常|\n",
    "|文件|无|f=open('data. dat', 'rb')|open是Python的内置函数,使用指定的模式打开文件,返回文件对象|\n",
    "|其他迭代对象|无|生成器对象、range对象、zip对象、enumerate 对象、map对象、filter 对象等|具有惰性求值的特点|\n",
    "|编程单元|无|函数(使用def定义)\\类(使用class定义)\\模块(类型为module)|类和函数都属于可调用对象,模块用来集中存放函数、类、常量或其他对象|\n",
    "\n",
    "- 数值大小没有限制是因为"
   ]
  },
  {
   "cell_type": "code",
   "execution_count": 20,
   "id": "569044fd",
   "metadata": {},
   "outputs": [
    {
     "data": {
      "text/plain": [
       "tuple"
      ]
     },
     "execution_count": 20,
     "metadata": {},
     "output_type": "execute_result"
    }
   ],
   "source": [
    "# type(3)\n",
    "type((3,))"
   ]
  },
  {
   "cell_type": "markdown",
   "id": "c640ff14",
   "metadata": {},
   "source": [
    "### 变量和常量\n",
    "\n",
    "不需要提前声明变量类型  \n",
    "先计算右边（如果有表达式的话），表达式的值,然后在内存中寻找一个位置把值存放进去,最后创建变量并指向这个内存地址。Python中的变量并不直接存储值,而是存储了值的内存地址或者引用（**基于值的内存管理方式**）,这也是变量类型随时可以改变的原因。虽然不需要在使用之前显式地声明变量及其类型,**但Python是一种不折不扣的强类型编程语言**,Python解释器会根据赋值运算符右侧表达式的值来自动推断变量类型。其工作方式类似于“状态机”，变量被创建以后,除非显式修改变量类型或删除变量,否则变量将一直保持之前的类型。  \n",
    "如果变量出现在赋值运算符或复合赋值运算符(如十=、 *= 等)的左边则表示创建变量或修改变量的值,否则表示引用该变量的值，这一点同样适用于使用下标来访问列表、字典等可变序列以及自定义对象中元素的情况。\n",
    "\n"
   ]
  },
  {
   "cell_type": "code",
   "execution_count": 23,
   "id": "d1437b4b",
   "metadata": {},
   "outputs": [
    {
     "name": "stdout",
     "output_type": "stream",
     "text": [
      "Python\n"
     ]
    },
    {
     "ename": "TypeError",
     "evalue": "'str' object is not callable",
     "output_type": "error",
     "traceback": [
      "\u001b[31m---------------------------------------------------------------------------\u001b[39m",
      "\u001b[31mTypeError\u001b[39m                                 Traceback (most recent call last)",
      "\u001b[36mCell\u001b[39m\u001b[36m \u001b[39m\u001b[32mIn[23]\u001b[39m\u001b[32m, line 4\u001b[39m\n\u001b[32m      2\u001b[39m x = \u001b[33m\"\u001b[39m\u001b[33mPython\u001b[39m\u001b[33m\"\u001b[39m\n\u001b[32m      3\u001b[39m \u001b[38;5;28mprint\u001b[39m(x)\n\u001b[32m----> \u001b[39m\u001b[32m4\u001b[39m \u001b[38;5;28mprint\u001b[39m(\u001b[38;5;28;43mid\u001b[39;49m\u001b[43m(\u001b[49m\u001b[32;43m3\u001b[39;49m\u001b[43m)\u001b[49m)\n\u001b[32m      5\u001b[39m \u001b[38;5;28mprint\u001b[39m(\u001b[38;5;28mid\u001b[39m(x))\n",
      "\u001b[31mTypeError\u001b[39m: 'str' object is not callable"
     ]
    }
   ],
   "source": [
    "x = 3\n",
    "x = \"Python\"\n",
    "print(x)\n",
    "print(id(3))\n",
    "print(id(x))"
   ]
  },
  {
   "cell_type": "markdown",
   "id": "c25792f6",
   "metadata": {},
   "source": [
    "这点和C、Java都不太一样：Python采用面对内存空间的变量存储。上面x=3的含义为：\n",
    "```bash\n",
    "id:140731959059432\n",
    "type:int\n",
    "value:3\n",
    "```\n",
    "\n",
    "然后给他一个标签x （x自己的地址是2687817224320），通过标签找地址；又比如"
   ]
  },
  {
   "cell_type": "code",
   "execution_count": 4,
   "id": "82e58c12",
   "metadata": {},
   "outputs": [
    {
     "name": "stdout",
     "output_type": "stream",
     "text": [
      "140731959059432\n",
      "140731959059432\n"
     ]
    }
   ],
   "source": [
    "x=3\n",
    "print(id(x))\n",
    "y=x\n",
    "print(id(x))"
   ]
  },
  {
   "cell_type": "markdown",
   "id": "28d996cd",
   "metadata": {},
   "source": [
    "注意到id(x)和id(y)的地址是相同的；如果我们再加一点："
   ]
  },
  {
   "cell_type": "code",
   "execution_count": 8,
   "id": "5562bea7",
   "metadata": {},
   "outputs": [
    {
     "name": "stdout",
     "output_type": "stream",
     "text": [
      "140731959059432\n",
      "140731959059624\n",
      "140731959059624\n"
     ]
    }
   ],
   "source": [
    "x=3\n",
    "y=x\n",
    "print(id(y))\n",
    "x=x+6\n",
    "print(id(x))\n",
    "print(id(9))"
   ]
  },
  {
   "cell_type": "markdown",
   "id": "d38fccce",
   "metadata": {},
   "source": [
    "观察到x的id变成的9的了\n",
    "\n",
    "- Python属于强类型编程语言，可以使用`type()`返回变量类型或者用`isinstance()`检查是否为指定的类型"
   ]
  },
  {
   "cell_type": "code",
   "execution_count": 10,
   "id": "4e84420e",
   "metadata": {},
   "outputs": [
    {
     "name": "stdout",
     "output_type": "stream",
     "text": [
      "<class 'int'>\n",
      "True\n"
     ]
    }
   ],
   "source": [
    "print(type(3))\n",
    "print(isinstance(3, int))"
   ]
  },
  {
   "cell_type": "markdown",
   "id": "0eea5f4d",
   "metadata": {},
   "source": [
    "在Python中定义变量名时,需要注意以下问题。\n",
    "1. 变量名必须以字母或下画线开头,但以下画线开头的变量在Python中有特殊含义,请参考第6章内容，所以不建议给一般的变量用。\n",
    "2. 变量名中不能有~~空格或标点符号(括号、引号、逗号、斜线、反斜线、冒号、句号、问号等)~~。\n",
    "3. 不能使用~~关键字~~作为变量名，Python关键字的介绍请见2.3节。要注意的是，随着Python版本的变化,关键字列表可能会有所变化。\n",
    "4. 不建议使用系统内置的模块名、类型名或函数名以及已导入的模块名及其成员名作为变量名，这会改变其类型和含义,甚至会导致其他代码无法正常执行。可以通过dir( __ builtins __ )查看所有内置对象名称。\n",
    "5. 变量名对英文字母的大小写敏感,如student和Student是不同的变量。"
   ]
  },
  {
   "cell_type": "code",
   "execution_count": null,
   "id": "5ebf26f3",
   "metadata": {},
   "outputs": [
    {
     "ename": "TypeError",
     "evalue": "'str' object is not callable",
     "output_type": "error",
     "traceback": [
      "\u001b[31m---------------------------------------------------------------------------\u001b[39m",
      "\u001b[31mTypeError\u001b[39m                                 Traceback (most recent call last)",
      "\u001b[36mCell\u001b[39m\u001b[36m \u001b[39m\u001b[32mIn[12]\u001b[39m\u001b[32m, line 1\u001b[39m\n\u001b[32m----> \u001b[39m\u001b[32m1\u001b[39m \u001b[38;5;28;43mid\u001b[39;49m\u001b[43m(\u001b[49m\u001b[32;43m3\u001b[39;49m\u001b[43m)\u001b[49m\n\u001b[32m      2\u001b[39m \u001b[38;5;28mid\u001b[39m=\u001b[33m'\u001b[39m\u001b[33m3724\u001b[39m\u001b[33m'\u001b[39m\n\u001b[32m      3\u001b[39m \u001b[38;5;28mid\u001b[39m(\u001b[32m3\u001b[39m)\n",
      "\u001b[31mTypeError\u001b[39m: 'str' object is not callable"
     ]
    }
   ],
   "source": [
    "id(3)\n",
    "id='3724'\n",
    "id(3)#方法被重载了"
   ]
  },
  {
   "cell_type": "markdown",
   "id": "9a59d2ae",
   "metadata": {},
   "source": [
    "修复方法是再补一个`__buildin__.id`；\n",
    "\n",
    "变量命名的规范性要好一点（驼峰（myAge）或者下划线，后端写驼峰my_age）\n",
    "\n",
    "### 数值和精度\n",
    "\n",
    "- Python支持任意大的数\n",
    "- 内存导致的精度问题（16位有效数字），小数自己玩一下（`flout`类的问题）。一般认为，`abs(x-y)<1e^-6`，则`x=y`"
   ]
  },
  {
   "cell_type": "code",
   "execution_count": null,
   "id": "eef0717a",
   "metadata": {},
   "outputs": [
    {
     "name": "stdout",
     "output_type": "stream",
     "text": [
      "False\n",
      "False\n",
      "True\n"
     ]
    }
   ],
   "source": [
    "print((0.4-0.1)==0.3)\n",
    "x=1.0\n",
    "y=1.0+2.0e-17\n",
    "print(y-x > 1.0e-17) #17位精度溢出\n",
    "y=1.0+2.0e-16\n",
    "print(y-x > 1.0e-16) #16位精度没有溢出"
   ]
  },
  {
   "cell_type": "markdown",
   "id": "bb5da7c8",
   "metadata": {},
   "source": [
    "复数也OK的，`abs()`用来计算复数的模。复数类有2个属性+1方法：\n",
    "```\n",
    "x=3+4i\n",
    "x.real\n",
    "x.imag\n",
    "x.conjugate()\n",
    "```"
   ]
  },
  {
   "cell_type": "code",
   "execution_count": 22,
   "id": "2ba4c2bc",
   "metadata": {},
   "outputs": [
    {
     "name": "stdout",
     "output_type": "stream",
     "text": [
      "<class 'complex'>\n",
      "5.0\n",
      "3.0\n",
      "<class 'float'>\n",
      "(3-4j)\n",
      "(2+1j)\n",
      "(2+1j)\n"
     ]
    },
    {
     "ename": "TypeError",
     "evalue": "must be real number, not complex",
     "output_type": "error",
     "traceback": [
      "\u001b[31m---------------------------------------------------------------------------\u001b[39m",
      "\u001b[31mTypeError\u001b[39m                                 Traceback (most recent call last)",
      "\u001b[36mCell\u001b[39m\u001b[36m \u001b[39m\u001b[32mIn[22]\u001b[39m\u001b[32m, line 11\u001b[39m\n\u001b[32m      9\u001b[39m \u001b[38;5;28mprint\u001b[39m(x**\u001b[32m0.5\u001b[39m) \u001b[38;5;66;03m# 复数的平方根，是可以的\u001b[39;00m\n\u001b[32m     10\u001b[39m \u001b[38;5;28mprint\u001b[39m(numpy.sqrt(x)) \u001b[38;5;66;03m# numpy.sqrt支持复数运算\u001b[39;00m\n\u001b[32m---> \u001b[39m\u001b[32m11\u001b[39m \u001b[43mmath\u001b[49m\u001b[43m.\u001b[49m\u001b[43msqrt\u001b[49m\u001b[43m(\u001b[49m\u001b[43mx\u001b[49m\u001b[43m)\u001b[49m \u001b[38;5;66;03m# math.sqrt不支持复数运算\u001b[39;00m\n",
      "\u001b[31mTypeError\u001b[39m: must be real number, not complex"
     ]
    }
   ],
   "source": [
    "import math\n",
    "import numpy\n",
    "x=3+4j\n",
    "print(type(x)) # 复数类\n",
    "print(abs(x)) # 模\n",
    "print(x.real) # 属性，给的整数存的浮点\n",
    "print(type(x.imag)) # 属性，展示一下储存的是浮点类\n",
    "print(x.conjugate()) # function方法，返回共轭复数\n",
    "print(x**0.5) # 复数的平方根，是可以的\n",
    "print(numpy.sqrt(x)) # numpy.sqrt支持复数运算\n",
    "math.sqrt(x) # math.sqrt不支持复数运算\n"
   ]
  },
  {
   "cell_type": "markdown",
   "id": "6c3bd1a2",
   "metadata": {},
   "source": [
    "分数还可以用fraction；生成随机数用的`random`\n",
    "\n",
    "----\n",
    "\n",
    "\n",
    "### 字符串\n",
    "\n",
    "- Python里一个字符也是字符串\n",
    "\n",
    "`'a',\"a\",'''a'''`都是字符串。可以用`+`链接字符串，甚至直接接上：`'good'\"moring\"`。P.S 后者不适用于~~字符串变量~~"
   ]
  },
  {
   "cell_type": "code",
   "execution_count": 26,
   "id": "538b0974",
   "metadata": {},
   "outputs": [
    {
     "name": "stdout",
     "output_type": "stream",
     "text": [
      "Tom said, \n",
      "\"let's go\"\n"
     ]
    }
   ],
   "source": [
    "\"'let's go\" # 注意内部字符串里的单引号\n",
    "x='''Tom said, \n",
    "\"let's go\"''' # 三引号可以跨行\n",
    "print(x)"
   ]
  },
  {
   "cell_type": "markdown",
   "id": "08f6af1c",
   "metadata": {},
   "source": [
    "我们可以对字符串进行**乘法运算**：相当于再接一个。比如`'good moring'*2`之后就变成了`'good moringgood moring'`，但是不支持幂运算。\n",
    "\n",
    "----\n",
    "\n",
    "### 字节串\n",
    "\n",
    "对`str`类的字符串调用`encode()`方法进行编码可以得到`bytes`格式的字节串"
   ]
  },
  {
   "cell_type": "code",
   "execution_count": null,
   "id": "ee8e1a4d",
   "metadata": {},
   "outputs": [
    {
     "name": "stdout",
     "output_type": "stream",
     "text": [
      "b'\\xe6\\xb5\\x99\\xe5\\xb7\\xa5\\xe5\\xa4\\xa7'\n",
      "<class 'bytes'>\n",
      "9\n",
      "浙工大\n",
      "3\n"
     ]
    }
   ],
   "source": [
    "test = '浙工大'.encode('utf-8')#'utf-8'是默认的，可以不写\n",
    "print(test)\n",
    "print(type(test))\n",
    "print(len(test))\n",
    "test.decode('utf-8')\n",
    "print(test.decode('utf-8'))\n",
    "print(len(test.decode('utf-8')))"
   ]
  },
  {
   "cell_type": "markdown",
   "id": "b2ff5910",
   "metadata": {},
   "source": [
    "### 列表、元素、字典、集合\n",
    "\n",
    "列表\n",
    "---\n",
    "\n",
    "数组pro plus；\n",
    "角标从0开始（只有matlab的脚标从1开始）\n",
    "\n",
    "元组\n",
    "---\n",
    "\n",
    "【只读】列表\n",
    "\n",
    "字典\n",
    "---\n",
    "\n",
    "key=value的羁绊，不需要排序了\n",
    "\n",
    "\n",
    "集合\n",
    "---\n",
    "\n",
    "不允许重复的无序列表\n",
    "\n",
    "四个container\n",
    "\n",
    "| 比较项       | 列表          | 元组          | 字典               | 集合    |\n",
    "|-----------|-------------|-------------|------------------|-------|\n",
    "| 类型名称      | list        | tuple       | dict             | set   |\n",
    "| 定界符       | 方括号[]       | 圆括号()       | 大括号{}            | 大括号{} |\n",
    "| 是否可变      | 是           | 否           | 是                | 是     |\n",
    "| 是否有序      | 是           | 是           | 否                | 否     |\n",
    "| 是否支持下标    | 是(使用序号作为下标) | 是(使用序号作为下标) | 是(使用“键”作为下标)     | 否     |\n",
    "| 元素分隔符     | 逗号          | 逗号          | 逗号               | 逗号    |\n",
    "| 对元素形式的要求  | 无           | 无           | 键:值              | 必须可哈希 |\n",
    "| 对元素值的要求   | 无           | 无           | “键”必须可哈希         | 必须可哈希 |\n",
    "| 元素是否可重复   | 是           | 是           | “键”不允许重复,“值”可以重复 | 否     |\n",
    "| 元素查找速度    | 非常慢         | 很慢          | 非常快              | 非常快   |\n",
    "| 新增和删除元素速度 | 尾部操作快,其他位置慢 | 不允许         | 快                | 快     |\n",
    "\n",
    "- 所谓可哈希（Hash）就是不可改变：数组、字符串、元组。字典里的元素不可以是~~列表~~，因为其可变\n"
   ]
  },
  {
   "cell_type": "code",
   "execution_count": null,
   "id": "298723fb",
   "metadata": {},
   "outputs": [],
   "source": [
    "list = [1,2,\"三\"] #列表[]\n",
    "tuple = (1,2,\"三\") #元组()\n",
    "dic = {1:\"one\",2:\"two\",\"三\":3} #字典{}\n",
    "set = {1,2,\"三\"} #集合{}"
   ]
  },
  {
   "cell_type": "code",
   "execution_count": null,
   "id": "58472070",
   "metadata": {},
   "outputs": [
    {
     "name": "stdout",
     "output_type": "stream",
     "text": [
      "(1, 2, [3, 4])\n",
      "(1, 2, [5, 4])\n"
     ]
    }
   ],
   "source": [
    "a=(1,2,[3,4])\n",
    "print(a)\n",
    "a[2][0]=5\n",
    "print(a) # 如果元组中的元素是可变类型的话，那个元素的变更不受影响"
   ]
  },
  {
   "cell_type": "markdown",
   "id": "aea7c0a5",
   "metadata": {},
   "source": [
    "其他可迭代对象：iterator\n",
    "\n",
    "item in x或者可以遍历的对象\n",
    "\n",
    "- generator（生成器对象）\n",
    "- range（内置函数的range返回）\n",
    "- zip（内置函数的zip返回）\n",
    "- enumerate\n",
    "- reversed\n",
    "- map\n",
    "- filter"
   ]
  },
  {
   "cell_type": "code",
   "execution_count": 34,
   "id": "fe97375e",
   "metadata": {},
   "outputs": [
    {
     "data": {
      "text/plain": [
       "[0, 1, 2, 3, 4]"
      ]
     },
     "execution_count": 34,
     "metadata": {},
     "output_type": "execute_result"
    }
   ],
   "source": [
    "range(5)\n",
    "list(range(5))"
   ]
  }
 ],
 "metadata": {
  "kernelspec": {
   "display_name": "base",
   "language": "python",
   "name": "python3"
  },
  "language_info": {
   "codemirror_mode": {
    "name": "ipython",
    "version": 3
   },
   "file_extension": ".py",
   "mimetype": "text/x-python",
   "name": "python",
   "nbconvert_exporter": "python",
   "pygments_lexer": "ipython3",
   "version": "3.13.7"
  }
 },
 "nbformat": 4,
 "nbformat_minor": 5
}
